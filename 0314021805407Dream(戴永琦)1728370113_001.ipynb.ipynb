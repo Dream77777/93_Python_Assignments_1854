{
 "cells": [
  {
   "cell_type": "markdown",
   "metadata": {},
   "source": [
    "    JLUFE                                                     Spring 2021 (Feb-July) \n",
    "\n",
    "                             Final Assignment Report        \n",
    "                                 \n",
    "                          \n",
    "                     JILIN UNIVERSITY OF FINANCE AND ECONOMICS  \n",
    "\n",
    "      Department of College of Managment Science and Information Engineering\n",
    "           \n",
    "                    BSc in Data Science and Big Data Technology\n",
    "                                  \n",
    "                                     (2021)\n",
    "                                          \n",
    "                              \n",
    "                                   \n",
    "                            Final Assignment: Part 01\n",
    "                                          \n",
    "                                   15/07/2021\n",
    "                                      \n",
    "                               MODULE: Data Mining \n",
    "                               \n",
    "                  Submitted by: Dream(戴永琦) 0314021805407 (1854)\n",
    "                                 QQ: 1728370113"
   ]
  },
  {
   "cell_type": "markdown",
   "metadata": {},
   "source": [
    "# RULES:\n",
    "\n",
    "1. I have added tips and required learning resources for each question, which helps you to solve the exercise. \n",
    "\n",
    "2. Finish the assignment on your **OWN** (**Any student find copying/sharing from classmates or internet will get '0' points!!!**)\n",
    "\n",
    "3. Once you finish the Assignment **[convert your .ipynb file into PDF](https://github.com/milaan9/91_Python_Tips/blob/main/000_Convert_Jupyter_Notebook_to_PDF.ipynb)** (both .pynb and .pdf file will be required!)\n",
    "\n",
    "4. Create **.zip** file and include your two files:\n",
    "    1. Your Jupyter Notebook file (**001_Python_Assignment_01.ipynb**)\n",
    "    2. Your PDF converted file of 001_Python_Assignment_01.ipynb (**001_Python_Assignment_01.pdf**)\n",
    "    \n",
    "5. Name your .zip file as your student number and name.\n",
    "   example: **0318021907632 Milan(米兰).zip**"
   ]
  },
  {
   "cell_type": "markdown",
   "metadata": {},
   "source": [
    "# Python Assignment 01"
   ]
  },
  {
   "cell_type": "markdown",
   "metadata": {},
   "source": [
    "### Question 1: \n",
    "\n",
    "Write a python program that generates a list containing only common elements between the two lists (without duplicates). Make sure your program works on two lists of different sizes.\n",
    "\n",
    "Expected Output:\n",
    "```\n",
    "List 1: [0, 2, 4, 6, 12, 13, 14, 18, 20, 24, 25, 26, 27]\n",
    "List 2: [0, 4, 7, 9, 10, 11, 13, 14, 17, 18, 20, 33, 39]\n",
    "List of common elements are:  [0, 4, 13, 14, 18, 20]\n",
    "```\n",
    "\n",
    "For extra points:\n",
    "1. Generate the two list randomly to test this\n",
    "2. Generate each list in one line of Python."
   ]
  },
  {
   "cell_type": "code",
   "execution_count": 8,
   "metadata": {},
   "outputs": [
    {
     "name": "stdout",
     "output_type": "stream",
     "text": [
      "{0, 4, 13, 14, 18, 20}\n",
      "[1, 17, 8, 16, 15, 10, 12, 16, 10, 5] \n",
      " [3, 20, 7, 18, 13, 14, 12, 5] \n",
      " {12, 5}\n"
     ]
    }
   ],
   "source": [
    "# Solution 1: \n",
    "import random\n",
    "a = [0, 2, 4, 6, 12, 13, 14, 18, 20, 24, 25, 26, 27]\n",
    "b = [0, 4, 7, 9, 10, 11, 13, 14, 17, 18, 20, 33, 39]\n",
    "c = set(a) & set(b) \n",
    "print(c)\n",
    "# random list:\n",
    "x = [random.randint(1,20) for i in range(10)]\n",
    "y = [random.randint(1,20) for i in range(8)]\n",
    "z = set(x) & set(y)\n",
    "print(x,\"\\n\",y,\"\\n\",z)\n",
    "\n"
   ]
  },
  {
   "cell_type": "markdown",
   "metadata": {},
   "source": [
    "### Question 2: \n",
    "\n",
    "Write a python program to find the gravitational force acting between two objects.\n",
    "\n",
    "\\begin{equation*}\n",
    "F=G\\frac{{m_1}{m_2}}{{r^2}}\n",
    "\\end{equation*}\n",
    "\n",
    "Expected Output:\n",
    "```\n",
    "Enter the first mass (m1): 5000000\n",
    "Enter the second mass (m2): 900000\n",
    "Enter the distance between the centres of the masses (N): 30\n",
    "Hence, the Gravitational Force is:  0.33 N\n",
    "```"
   ]
  },
  {
   "cell_type": "code",
   "execution_count": 9,
   "metadata": {},
   "outputs": [
    {
     "name": "stdout",
     "output_type": "stream",
     "text": [
      "Enter the first mass: 5000000\n",
      "Enter the second mass: 900000\n",
      "Enter the distance between the centres of the masses: 30\n",
      "Hence, the gravitational force is:  0.33 N\n"
     ]
    }
   ],
   "source": [
    "# Solution 2: \n",
    "m1=float(input(\"Enter the first mass: \"))\n",
    "m2=float(input(\"Enter the second mass: \"))\n",
    "r=float(input(\"Enter the distance between the centres of the masses: \"))\n",
    "G=6.673*(10**-11)\n",
    "f=(G*m1*m2)/(r**2)\n",
    "print(\"Hence, the gravitational force is: \",round(f,2),\"N\")\n",
    "\n"
   ]
  },
  {
   "cell_type": "markdown",
   "metadata": {},
   "source": [
    "### Question 3: \n",
    "\n",
    "Write a python program that generates a new list that contains only even elements from the randomly generated list.\n",
    "\n",
    "Expected Output:\n",
    "```\n",
    "Randomly generated list: [64, 63, 90, 13, 38, 27, 19, 51, 97, 32, 18, 75]\n",
    "List of even elements: [64, 90, 38, 32, 18]\n",
    "```"
   ]
  },
  {
   "cell_type": "code",
   "execution_count": 10,
   "metadata": {},
   "outputs": [
    {
     "name": "stdout",
     "output_type": "stream",
     "text": [
      "[64, 90, 38, 32, 18]\n"
     ]
    }
   ],
   "source": [
    "# Solution 3: \n",
    "lst = [64, 63, 90, 13, 38, 27, 19, 51, 97, 32, 18, 75]\n",
    "no = list(filter(lambda x: (x % 2 == 0), lst))\n",
    "print(no)\n"
   ]
  },
  {
   "cell_type": "markdown",
   "metadata": {},
   "source": [
    "### Question 4: \n",
    "\n",
    "Write a python program to check if a substring is present in a given string.\n",
    "\n",
    "Expected Output:\n",
    "```\n",
    "Enter string:Hello world\n",
    "Enter word:world\n",
    "Substring in string!\n",
    "```"
   ]
  },
  {
   "cell_type": "code",
   "execution_count": 16,
   "metadata": {},
   "outputs": [
    {
     "name": "stdout",
     "output_type": "stream",
     "text": [
      "NO,string 'world:' is not present in string Hello world \n"
     ]
    }
   ],
   "source": [
    "# Solution 4: \n",
    "import re\n",
    "MyString1 =\"Hello world\"\n",
    "MyString2 =\"world:\"\n",
    "if re.search( MyString2, MyString1 ):\n",
    "    print(\"YES,string '{0}' is present in string '{1}' \" .format(MyString2,MyString1))\n",
    "else:\n",
    "    print(\"NO,string '{0}' is not present in string {1} \" .format(MyString2, MyString1))\n"
   ]
  },
  {
   "cell_type": "markdown",
   "metadata": {},
   "source": [
    "### Question 5: \n",
    "\n",
    "Write a python program that asks the user last 2 digit of (your) student number and generates Fibonacci series.\n",
    "\n",
    "Expected Output:\n",
    "```\n",
    "How many numbers that generates?: 12\n",
    "Fibonacci series:\n",
    " [1, 1, 2, 3, 5, 8, 13, 21, 34, 55, 89, 144]\n",
    "```"
   ]
  },
  {
   "cell_type": "code",
   "execution_count": 17,
   "metadata": {},
   "outputs": [
    {
     "name": "stdout",
     "output_type": "stream",
     "text": [
      "\n",
      "Please Enter the student Number: 7\n",
      "0\n",
      "1\n",
      "1\n",
      "2\n",
      "3\n",
      "5\n",
      "8\n"
     ]
    }
   ],
   "source": [
    "# Solution 5: \n",
    "def Fibonacci_series(Number):\n",
    "           if(Number == 0):\n",
    "                      return 0\n",
    "           elif(Number == 1):\n",
    "                      return 1\n",
    "           else:\n",
    "                      return (Fibonacci_series(Number - 2)+ Fibonacci_series(Number - 1))\n",
    "\n",
    "Number = int(input(\"\\nPlease Enter the student Number: \"))\n",
    "\n",
    "for Num in range(0, Number):\n",
    "           print(Fibonacci_series(Num))\n"
   ]
  },
  {
   "cell_type": "markdown",
   "metadata": {},
   "source": [
    "### Question 6: \n",
    "\n",
    "Write a python program using function that generates a new list that contains all the elements of the first list and removing all the duplicates.\n",
    "\n",
    "Expected Output:\n",
    "```\n",
    "List:  [1, 2, 3, 4, 3, 2, 1]\n",
    "Result List using loop:  [1, 2, 3, 4]\n",
    "Result List using sets:  [1, 2, 3, 4]\n",
    "```\n",
    "\n",
    "For extra points:\n",
    "1. Generate the result using two different functions using:\n",
    "    - one using a loop and constructing a list\n",
    "    - sets"
   ]
  },
  {
   "cell_type": "code",
   "execution_count": 23,
   "metadata": {},
   "outputs": [
    {
     "name": "stdout",
     "output_type": "stream",
     "text": [
      "[1, 2, 3, 4, 3, 2, 1]\n",
      "Result List using loop: [1, 2, 3, 4]\n",
      "Result List using sets: {1, 2, 3, 4}\n"
     ]
    }
   ],
   "source": [
    "# Solution 6: \n",
    "def Result(x):\n",
    "    _size = len(x)\n",
    "    result = []\n",
    "    for i in range(_size):\n",
    "            if not x[i]  in result:\n",
    "                result.append(x[i])\n",
    "    return result\n",
    " \n",
    "list1 = [1, 2, 3, 4, 3, 2, 1]\n",
    "print(list1)\n",
    "print(\"Result List using loop:\",Result(list1))\n",
    "\n",
    "print(\"Result List using sets:\",set(list1))\n",
    "\n"
   ]
  },
  {
   "cell_type": "markdown",
   "metadata": {},
   "source": [
    "### Question 7: \n",
    "\n",
    "Write a python program using functions that asks the user for a string containing multiple words and print back to the user the same string, except with the words in reverse order.\n",
    "\n",
    "Expected Output:\n",
    "```\n",
    "Please enter a sentence: My name is Milaan\n",
    "The reverse sentence is: Milaan is name My\n",
    "```"
   ]
  },
  {
   "cell_type": "code",
   "execution_count": 36,
   "metadata": {},
   "outputs": [
    {
     "name": "stdout",
     "output_type": "stream",
     "text": [
      " The reverse sentence is: Dream is name My\n"
     ]
    }
   ],
   "source": [
    "# Solution 7: \n",
    "def rev_words (sentence):\n",
    "    words = sentence.split()\n",
    "    backwards = []\n",
    "    for i in range(len(words)):\n",
    "        backwards += [words[-1-i]]\n",
    "    rev_sentence = \"\"\n",
    "    for i in backwards:\n",
    "        if backwards.index(i) == 0:\n",
    "            rev_sentence += i\n",
    "        else:\n",
    "            rev_sentence += \" \" + i\n",
    "    return rev_sentence\n",
    " \n",
    "sentence = input(\"Please enter a sentence: \")\n",
    "print(\" The reverse sentence is:\", rev_words(sentence))\n"
   ]
  },
  {
   "cell_type": "markdown",
   "metadata": {},
   "source": [
    "### Question 8: \n",
    "\n",
    "Write a python program using function that encrypts a given input with these steps:\n",
    "\n",
    "Input: \"apple\"\n",
    "\n",
    "* Step 1: Reverse the input: \"elppa\"\n",
    "* Step 2: Replace all vowels using the following chart:\n",
    "\n",
    "```python\n",
    "a => 0\n",
    "e => 1\n",
    "i => 2\n",
    "o => 2\n",
    "u => 3\n",
    "# 1lpp0\n",
    "```\n",
    "\n",
    "* Step 3: Add \"aca\" to the end of the word: \"1lpp0aca\"\n",
    "\n",
    "Expected Output:\n",
    "```\n",
    "Word:  apple\n",
    "Encrypted word: 1lpp0aca\n",
    "```\n",
    "\n",
    "More Examples:\n",
    "```\n",
    "encrypt(\"banana\") ➞ \"0n0n0baca\"\n",
    "encrypt(\"karaca\") ➞ \"0c0r0kaca\"\n",
    "encrypt(\"burak\") ➞ \"k0r3baca\"\n",
    "encrypt(\"alpaca\") ➞ \"0c0pl0aca\"\n",
    "```"
   ]
  },
  {
   "cell_type": "code",
   "execution_count": 44,
   "metadata": {},
   "outputs": [
    {
     "name": "stdout",
     "output_type": "stream",
     "text": [
      "elppa\n",
      "\n",
      "Encrypted word: 1lpp0aca\n"
     ]
    }
   ],
   "source": [
    "# Solution 8: \n",
    "word = input(\"Input a word to reverse: \")\n",
    "for char in range(len(word) - 1, -1, -1):\n",
    "  print(word[char], end=\"\")\n",
    "print(\"\\n\")\n",
    "n=input()\n",
    "n=n[::-1]\n",
    "word= \"\"\n",
    "for i in n:\n",
    "    if (i==\"a\"): word+=\"0\"\n",
    "    elif (i==\"e\"): word+=\"1\"\n",
    "    elif (i==\"i\"): word+=\"2\"\n",
    "    elif (i==\"o\"): word+=\"2\"\n",
    "    elif (i==\"u\"): word+=\"4\"\n",
    "    else: word+=i\n",
    "word+=\"aca\"\n",
    "print(\"Encrypted word:\",word)\n",
    "\n"
   ]
  },
  {
   "cell_type": "markdown",
   "metadata": {},
   "source": [
    "### Question 9: \n",
    "\n",
    "Write a python program using function that takes a number num and returns its length.\n",
    "\n",
    "Expected Output:\n",
    "```\n",
    "Enter number: 963969\n",
    "Total digits in given number:  6\n",
    "```"
   ]
  },
  {
   "cell_type": "code",
   "execution_count": 60,
   "metadata": {},
   "outputs": [
    {
     "name": "stdout",
     "output_type": "stream",
     "text": [
      "\n",
      " number of digits in a given number = 6\n"
     ]
    }
   ],
   "source": [
    "# Solution 9: \n",
    "Count = 0\n",
    "def Counting(Number):\n",
    "    global Count\n",
    "    if(Number > 0):\n",
    "        Count = Count + 1\n",
    "        Counting(Number//10)\n",
    "    return Count\n",
    "\n",
    "Number = int(input(\"Please Enter number: \"))\n",
    "Count = Counting(Number)\n",
    "print(\"\\n number of digits in a given number = %d\" %Count)"
   ]
  },
  {
   "cell_type": "markdown",
   "metadata": {},
   "source": [
    "### Question 10: \n",
    "\n",
    "Write a python program using function that takes a string and returns the number (count) of vowels contained within it.\n",
    "\n",
    "Expected Output:\n",
    "```\n",
    "Enter string: Celebration\n",
    "Total vowels in the string: 5\n",
    "Identified vowels are:  ['e', 'e', 'a', 'i', 'o']\n",
    "```\n",
    "\n",
    "More examples:\n",
    "```\n",
    "count_vowels(\"Palm\") ➞ 1\n",
    "count_vowels(\"Prediction\") ➞ 4\n",
    "```"
   ]
  },
  {
   "cell_type": "code",
   "execution_count": 77,
   "metadata": {},
   "outputs": [
    {
     "name": "stdout",
     "output_type": "stream",
     "text": [
      "Total vowels are:  5\n",
      "Total vowels in the string 5\n"
     ]
    }
   ],
   "source": [
    "# Solution 10: \n",
    "def isVowel(ch):\n",
    "    if(ch=='A' or ch=='a' or ch=='E' or ch=='e'or ch=='I' or ch=='i' or ch=='O' or ch=='o'or ch=='U' or ch=='u'):\n",
    "        return True\n",
    "    else:\n",
    "        return False\n",
    "def countVowel(s) :\n",
    "    count =0\n",
    "    for i in str:\n",
    "        if(isVowel(i) == True):\n",
    "            count += 1 \n",
    "    return count\n",
    "str = (input(\"Please Enter string: \"))\n",
    "print ((\"Total vowels are: \"), countVowel(str))\n",
    "print(\"Total vowels in the string\",countVowel(str)) "
   ]
  },
  {
   "cell_type": "markdown",
   "metadata": {},
   "source": [
    "### Question 11:\n",
    "\n",
    "Write a python program to draw pattern as below:\n",
    "\n",
    "Expected Output:\n",
    "```\n",
    "--- --- --- \n",
    "|   |   |   |\n",
    " --- --- --- \n",
    "|   |   |   |\n",
    " --- --- --- \n",
    "|   |   |   |\n",
    " --- --- --- \n",
    "```\n",
    "\n",
    "For extra point:\n",
    "1. Generate solution by asking the user what size game board they want to draw, and draw it for them to the screen using Python’s print statement.\n",
    "\n",
    "Expected Output:\n",
    "```\n",
    "Enter the size of board you want to draw: 4\n",
    " --- --- --- ---\n",
    "|   |   |   |   |   \n",
    " --- --- --- ---\n",
    "|   |   |   |   |   \n",
    " --- --- --- ---\n",
    "|   |   |   |   |   \n",
    " --- --- --- ---\n",
    "|   |   |   |   |   \n",
    " --- --- --- ---\n",
    "```"
   ]
  },
  {
   "cell_type": "code",
   "execution_count": 7,
   "metadata": {},
   "outputs": [
    {
     "name": "stdout",
     "output_type": "stream",
     "text": [
      "Enter the size of board you want to draw: 4\n",
      " --- --- --- ---\n",
      "|   |   |   |   |\n",
      " --- --- --- ---\n",
      "|   |   |   |   |\n",
      " --- --- --- ---\n",
      "|   |   |   |   |\n",
      " --- --- --- ---\n",
      "|   |   |   |   |\n",
      " --- --- --- ---\n"
     ]
    }
   ],
   "source": [
    "# Solution 11: \n",
    "n = int(input('Enter the size of board you want to draw: '))\n",
    "for i in range(n):\n",
    "    print(' --- --- --- ---')\n",
    "    print('|   |   |   |   |')\n",
    "print(' --- --- --- ---')\n",
    "\n"
   ]
  },
  {
   "cell_type": "markdown",
   "metadata": {},
   "source": [
    "### Question 12: \n",
    "\n",
    "Write a python program to ask user for a string and then perform following operations:\n",
    "1. Calculate the num of digits \n",
    "2. Calculate the num of letters \n",
    "3. Calculate the num of vowels\n",
    "4. Calculate the num of lowercase characters\n",
    "5. replace ' ' with '_' in the string\n",
    "6. Print and Store the ouput to 'output.txt' file.\n",
    "\n",
    "Expected Output:\n",
    "```\n",
    "Enter string: Hello World 123\n",
    "Output printed in'output.txt'\n",
    "```\n",
    "\n",
    "Expected Output in output.txt:\n",
    "```\n",
    "The entered string is: Hello World 123\n",
    "The number of digits is: 3\n",
    "The number of characters is: 15\n",
    "The number of vowels is: 3\n",
    "The number of lowercase characters is: 8\n",
    "The modified string is: Hello_World_123\n",
    "```"
   ]
  },
  {
   "cell_type": "code",
   "execution_count": 24,
   "metadata": {},
   "outputs": [
    {
     "name": "stdout",
     "output_type": "stream",
     "text": [
      "The entered string is:Hello_World_123\n",
      "The number of digits is: 3\n",
      "The number of characters is: 15\n",
      "The number of vowels is: 3\n",
      "The number of lowercase letters is: 8\n",
      "The modified string is: Hello_World_123\n"
     ]
    }
   ],
   "source": [
    "#Solution12\n",
    "Str = input(\"The entered string is:\")\n",
    "total_digits =0\n",
    "total_vowels =0\n",
    "total_characters =len(Str)\n",
    "total_lowerletters =0\n",
    "for s in Str:\n",
    "    if(s.isdigit()):\n",
    "        total_digits+=1\n",
    "    elif s in ['a', 'e', 'i', 'o', 'u']:\n",
    "        total_vowels+=1\n",
    "    if s.islower():\n",
    "        total_lowerletters+=1\n",
    "Str1 = Str.replace(' ','_')\n",
    "print('The number of digits is:',total_digits)\n",
    "print('The number of characters is:',total_characters)\n",
    "print('The number of vowels is:',total_vowels)\n",
    "print('The number of lowercase letters is:',total_lowerletters)\n",
    "print('The modified string is:',Str1)\n"
   ]
  },
  {
   "cell_type": "markdown",
   "metadata": {},
   "source": [
    "### Question 13: \n",
    "\n",
    "Write a python program using function that takes as input three variables from user, and returns the largest of the three. Do this without using the Python **`max()`** function!\n",
    "\n",
    "Expected Output:\n",
    "```\n",
    "Please enter three integers separated by comma: 12, 66, 31\n",
    "The maximum value is: 66 \n",
    "```"
   ]
  },
  {
   "cell_type": "code",
   "execution_count": 25,
   "metadata": {},
   "outputs": [
    {
     "name": "stdout",
     "output_type": "stream",
     "text": [
      "Enter first number: 12\n",
      "Enter second number: 66\n",
      "Enter third number: 31\n",
      "The largest number is 66.0\n"
     ]
    }
   ],
   "source": [
    "# Solution 13: \n",
    "num1 = float(input(\"Enter first number: \"))\n",
    "num2 = float(input(\"Enter second number: \"))\n",
    "num3 = float(input(\"Enter third number: \"))\n",
    "\n",
    "if (num1 >= num2) and (num1 >= num3):\n",
    "   largest = num1\n",
    "elif (num2 >= num1) and (num2 >= num3):\n",
    "   largest = num2\n",
    "else:\n",
    "   largest = num3\n",
    "\n",
    "print(\"The largest number is\", largest)\n"
   ]
  },
  {
   "cell_type": "markdown",
   "metadata": {},
   "source": [
    "### Question 14: \n",
    "\n",
    "Write a python program where user, will have a number in head between 0 and 100. The program will guess a number, and you, the user, will say whether it is too \"high\", too \"low\", or your number. Also, in the end program should print out how many guesses it took to get your number.\n",
    "\n",
    "Expected Output:\n",
    "```\n",
    "Guess a number between 0 and 100 and tell whether high or low when prompted!\n",
    "My guess is 50. Is that high, low or same? low\n",
    "My guess is 75. Is that high, low or same? low\n",
    "My guess is 88. Is that high, low or same? low\n",
    "My guess is 94. Is that high, low or same? low\n",
    "My guess is 97. Is that high, low or same? low\n",
    "My guess is 99. Is that high, low or same? same\n",
    "Congrats to me! I guessed it in 6 tries.\n",
    "```"
   ]
  },
  {
   "cell_type": "code",
   "execution_count": 26,
   "metadata": {},
   "outputs": [
    {
     "name": "stdout",
     "output_type": "stream",
     "text": [
      "Guess a number between 0 and 100 and tell whether high or low when prompted!\n",
      "50\n",
      "My guess is 50 Is that high, low or same? low\n",
      "70\n",
      "My guess is 70 Is that high, low or same? low\n",
      "90\n",
      "My guess is 90  Is that high, low or same? high\n",
      "80\n",
      "My guess is 80 Is that high, low or same? low\n",
      "85\n",
      "My guess is 85 Is that high, low or same? same\n",
      "Congrats to me! I guessed it in  5 tries.\n"
     ]
    }
   ],
   "source": [
    "# Solution 14:\n",
    "import numpy as np\n",
    "n = np.random.randint(1,100)\n",
    "print(\"Guess a number between 0 and 100 and tell whether high or low when prompted!\")\n",
    "M=int(input())\n",
    "count=1\n",
    "while(M!=n):\n",
    "    if(M<n):\n",
    "        print('My guess is',M, 'Is that high, low or same? low')\n",
    "        M=int(input())\n",
    "        count+=1\n",
    "    if(M>n):\n",
    "        print('My guess is',M,' Is that high, low or same? high')\n",
    "        M=int(input())\n",
    "        count+=1\n",
    "print('My guess is',M,'Is that high, low or same? same')\n",
    "print('Congrats to me! I guessed it in ',count, 'tries.')"
   ]
  },
  {
   "cell_type": "markdown",
   "metadata": {},
   "source": [
    "### Question 15: \n",
    "\n",
    "Write a python program using function that takes an list(ordered) of numbers (from smallest to largest) and another number. The function decides whether or not the given number is inside the list and returns (then prints) an appropriate boolean.\n",
    "\n",
    ">Hint: Use binary search.\n",
    "\n",
    "Expected Output:\n",
    "```\n",
    "List:  [2, 4, 6, 8, 10]\n",
    "Find  '5': False\n",
    "Find '10': True\n",
    "Find '-1': False\n",
    "Find  '2': True\n",
    "```\n",
    "\n",
    "For extra point:\n",
    "1. Generate list randomly and select he number randomly to be search from the list."
   ]
  },
  {
   "cell_type": "code",
   "execution_count": 27,
   "metadata": {},
   "outputs": [
    {
     "name": "stdout",
     "output_type": "stream",
     "text": [
      "[2, 4, 6, 8, 10]\n",
      "6\n",
      "False\n",
      "None\n"
     ]
    }
   ],
   "source": [
    "# Solution 15: \n",
    "import math\n",
    "\n",
    "def doesNumExistInList(num, listOfNum):\n",
    "    \n",
    "    if len(listOfNum) == 1:\n",
    "        print (num == listOfNum[0]) \n",
    "        return (num == listOfNum[0]) \n",
    "    elif len(listOfNum) == 2:\n",
    "        print (num == listOfNum[0] or num == listOfNum[1])\n",
    "        return (num == listOfNum[0] or num == listOfNum[1])\n",
    "\n",
    "    half = math.ceil(len(listOfNum) / 2)\n",
    "    if num <= listOfNum[half-1]:\n",
    "        doesNumExistInList(num, listOfNum[:(half-1)])\n",
    "    else:\n",
    "        doesNumExistInList(num, listOfNum[half:])\n",
    "\n",
    "a = [2,4,6,8,10]\n",
    "b = 6\n",
    "print (a)\n",
    "print (b)\n",
    "print(doesNumExistInList(b, a))\n"
   ]
  },
  {
   "cell_type": "markdown",
   "metadata": {},
   "source": [
    "### Question 16: \n",
    "\n",
    "Write a python program to generate password. Be creative with how you generate passwords - strong passwords have a mix of lowercase letters, uppercase letters, numbers, and symbols. The passwords should be random, generating a new password every time the user asks for a new password. Include your code in a main method.\n",
    "\n",
    "Expected Output:\n",
    "```\n",
    "Please choose strong or weak:\n",
    "strong\n",
    "password: 6|Av.0T^9\n",
    "do you want a new password? y/n\n",
    "n\n",
    "```\n",
    "\n",
    "For extra points:\n",
    "1. Ask the user if they want password to be strong(9 characters) or weak(6 characters)?"
   ]
  },
  {
   "cell_type": "code",
   "execution_count": 30,
   "metadata": {},
   "outputs": [
    {
     "name": "stdout",
     "output_type": "stream",
     "text": [
      "Would you like a Strong(S) or Weak(W) Password?  S\n",
      "How many digits would you like your PW to be? Please enter in 5,10,15,20,25,or 30 (max 30) 888888\n",
      "Sorry invalid Selection, please enter 5,10,15,20,25,30\n",
      "How many digits would you like your PW to be? Please enter in 5,10,15,20,25,or 30 (max 30) 32444\n",
      "Sorry invalid Selection, please enter 5,10,15,20,25,30\n",
      "How many digits would you like your PW to be? Please enter in 5,10,15,20,25,or 30 (max 30) deffhh\n"
     ]
    },
    {
     "ename": "ValueError",
     "evalue": "invalid literal for int() with base 10: 'deffhh'",
     "output_type": "error",
     "traceback": [
      "\u001b[1;31m---------------------------------------------------------------------------\u001b[0m",
      "\u001b[1;31mValueError\u001b[0m                                Traceback (most recent call last)",
      "\u001b[1;32m<ipython-input-30-b3e94c0af2c3>\u001b[0m in \u001b[0;36m<module>\u001b[1;34m()\u001b[0m\n\u001b[0;32m     39\u001b[0m             \u001b[0mprint\u001b[0m\u001b[1;33m(\u001b[0m\u001b[1;34m\"Sorry invalid Selection, please enter 5,10,15,20,25,30\"\u001b[0m\u001b[1;33m)\u001b[0m\u001b[1;33m\u001b[0m\u001b[0m\n\u001b[0;32m     40\u001b[0m \u001b[1;33m\u001b[0m\u001b[0m\n\u001b[1;32m---> 41\u001b[1;33m \u001b[0mmenu\u001b[0m\u001b[1;33m(\u001b[0m\u001b[1;33m)\u001b[0m\u001b[1;33m\u001b[0m\u001b[0m\n\u001b[0m",
      "\u001b[1;32m<ipython-input-30-b3e94c0af2c3>\u001b[0m in \u001b[0;36mmenu\u001b[1;34m()\u001b[0m\n\u001b[0;32m      6\u001b[0m     \u001b[0mpw_choice\u001b[0m\u001b[1;33m=\u001b[0m \u001b[0mstr\u001b[0m\u001b[1;33m(\u001b[0m\u001b[0minput\u001b[0m\u001b[1;33m(\u001b[0m\u001b[1;34m\"Would you like a Strong(S) or Weak(W) Password?  \"\u001b[0m\u001b[1;33m)\u001b[0m\u001b[1;33m)\u001b[0m\u001b[1;33m\u001b[0m\u001b[0m\n\u001b[0;32m      7\u001b[0m     \u001b[1;32mif\u001b[0m \u001b[0mpw_choice\u001b[0m \u001b[1;33m==\u001b[0m \u001b[1;34m's'\u001b[0m \u001b[1;32mor\u001b[0m \u001b[0mpw_choice\u001b[0m \u001b[1;33m==\u001b[0m \u001b[1;34m'S'\u001b[0m\u001b[1;33m:\u001b[0m\u001b[1;33m\u001b[0m\u001b[0m\n\u001b[1;32m----> 8\u001b[1;33m         \u001b[0mgen_strong\u001b[0m\u001b[1;33m(\u001b[0m\u001b[1;33m)\u001b[0m\u001b[1;33m\u001b[0m\u001b[0m\n\u001b[0m\u001b[0;32m      9\u001b[0m     \u001b[1;32melif\u001b[0m \u001b[0mpw_choice\u001b[0m \u001b[1;33m==\u001b[0m \u001b[1;34m'w'\u001b[0m \u001b[1;32mor\u001b[0m \u001b[0mpw_choice\u001b[0m \u001b[1;33m==\u001b[0m \u001b[1;34m'W'\u001b[0m\u001b[1;33m:\u001b[0m\u001b[1;33m\u001b[0m\u001b[0m\n\u001b[0;32m     10\u001b[0m         \u001b[0mgen_weak\u001b[0m\u001b[1;33m(\u001b[0m\u001b[1;33m)\u001b[0m\u001b[1;33m\u001b[0m\u001b[0m\n",
      "\u001b[1;32m<ipython-input-30-b3e94c0af2c3>\u001b[0m in \u001b[0;36mgen_strong\u001b[1;34m()\u001b[0m\n\u001b[0;32m     22\u001b[0m \u001b[1;33m\u001b[0m\u001b[0m\n\u001b[0;32m     23\u001b[0m     \u001b[1;32mwhile\u001b[0m \u001b[1;32mTrue\u001b[0m\u001b[1;33m:\u001b[0m\u001b[1;33m\u001b[0m\u001b[0m\n\u001b[1;32m---> 24\u001b[1;33m         \u001b[0mnum_digits\u001b[0m \u001b[1;33m=\u001b[0m \u001b[0mint\u001b[0m\u001b[1;33m(\u001b[0m\u001b[0minput\u001b[0m\u001b[1;33m(\u001b[0m\u001b[1;34m\"How many digits would you like your PW to be? Please enter in 5,10,15,20,25,or 30 (max 30) \"\u001b[0m\u001b[1;33m)\u001b[0m\u001b[1;33m)\u001b[0m\u001b[1;33m\u001b[0m\u001b[0m\n\u001b[0m\u001b[0;32m     25\u001b[0m \u001b[1;33m\u001b[0m\u001b[0m\n\u001b[0;32m     26\u001b[0m         \u001b[1;32mif\u001b[0m \u001b[0mnum_digits\u001b[0m \u001b[1;32min\u001b[0m \u001b[0mokay_lst\u001b[0m\u001b[1;33m:\u001b[0m\u001b[1;33m\u001b[0m\u001b[0m\n",
      "\u001b[1;31mValueError\u001b[0m: invalid literal for int() with base 10: 'deffhh'"
     ]
    }
   ],
   "source": [
    "# Solution 16: \n",
    "import sys\n",
    "import random\n",
    "import string\n",
    "def menu():\n",
    "    pw_choice= str(input(\"Would you like a Strong(S) or Weak(W) Password?  \"))\n",
    "    if pw_choice == 's' or pw_choice == 'S':\n",
    "        gen_strong()\n",
    "    elif pw_choice == 'w' or pw_choice == 'W':\n",
    "        gen_weak()\n",
    "    else:\n",
    "        print(\"Sorry that is not a valid options.  Please enter S or W :  \" )\n",
    "        menu()\n",
    "def gen_strong():\n",
    "\n",
    "    uchar_set = list(string.ascii_uppercase)\n",
    "    lchar_set = list(string.ascii_lowercase)\n",
    "    num_set = list(string.digits)\n",
    "    spec_char_set = list(string.punctuation)\n",
    "    str_pw = []\n",
    "    okay_lst = [5,10,15,20,25,30]\n",
    "\n",
    "    while True:\n",
    "        num_digits = int(input(\"How many digits would you like your PW to be? Please enter in 5,10,15,20,25,or 30 (max 30) \"))\n",
    "\n",
    "        if num_digits in okay_lst:\n",
    "\n",
    "            while num_digits > 0:\n",
    "                str_pw.append(random.choice(uchar_set))\n",
    "                str_pw.append(random.choice(lchar_set))\n",
    "                str_pw.append(random.choice(num_set))\n",
    "                str_pw.append(random.choice(spec_char_set))\n",
    "                str_pw.append(random.choice(uchar_set))\n",
    "                num_digits -= 5\n",
    "            print(''.join(str_pw))\n",
    "            break\n",
    "\n",
    "        else:\n",
    "            print(\"Sorry invalid Selection, please enter 5,10,15,20,25,30\")\n",
    "\n",
    "menu()\n"
   ]
  },
  {
   "cell_type": "markdown",
   "metadata": {},
   "source": [
    "### Question 17: \n",
    "\n",
    "Write a python program using function that picks a random word from a list of words from the **[dictionary](https://github.com/milaan9/92_Python_Assignments/blob/main/sowpods.txt)**. Each line in the file contains a single word.\n",
    "\n",
    ">Hint: use the Python random library for picking a random word.\n",
    "\n",
    "Expected Output:\n",
    "```\n",
    "Random word: POTENTIATING\n",
    "```"
   ]
  },
  {
   "cell_type": "code",
   "execution_count": 31,
   "metadata": {},
   "outputs": [
    {
     "name": "stdout",
     "output_type": "stream",
     "text": [
      "Random key-value pair is  white : 10\n"
     ]
    }
   ],
   "source": [
    "# Solution 17: \n",
    "import random\n",
    "\n",
    "weight_dict = {\n",
    "    \"pig\":1,\n",
    "    \"dog\": 2,\n",
    "    \"panda\":7,\n",
    "    \"white\":10,\n",
    "    \"black\":22,\n",
    "    \"pink\":16\n",
    "}\n",
    "\n",
    "key = random.choice(list(weight_dict))\n",
    "print(\"Random key-value pair is \", key, \":\", weight_dict[key])\n"
   ]
  },
  {
   "cell_type": "markdown",
   "metadata": {},
   "source": [
    "### Question 18: \n",
    "\n",
    "Write a python program where a text(.txt) file is given **[nameslist.txt](https://github.com/milaan9/92_Python_Assignments/blob/main/nameslist.txt)** that contains list of a bunch of names, count how many of each name there are in the file, and print out the results to the screen. \n",
    "\n",
    "Expected Output:\n",
    "```\n",
    "{'Darth': 31, 'Luke': 15, 'Leia': 54}\n",
    "```\n",
    "\n",
    "For extra point:\n",
    "1. Instead of using the **[nameslist.txt](https://github.com/milaan9/92_Python_Assignments/blob/main/nameslist.txt)** file from above (or instead of, if you want the challenge), take this **[SUN_Database.txt](https://github.com/milaan9/92_Python_Assignments/blob/main/SUN_Database.txt)** file, and count how many of each “category” of each image there are. This text file is actually a list of files corresponding to the SUN database scene recognition database, and lists the file directory hierarchy for the images. Once you take a look at the first line or two of the file, it will be clear which part represents the scene category.\n",
    "\n",
    "Expected Output:\n",
    "```\n",
    "abbey: 50\n",
    "airplane_cabin: 50\n",
    "airport_terminal: 50\n",
    "alley: 50\n",
    "amphitheater: 50\n",
    "...\n",
    "...\n",
    "...\n",
    "wrestling_ring: 50\n",
    "yard: 50\n",
    "youth_hostel: 50\n",
    "```"
   ]
  },
  {
   "cell_type": "code",
   "execution_count": 7,
   "metadata": {},
   "outputs": [
    {
     "name": "stdout",
     "output_type": "stream",
     "text": [
      "Counter({'Leia': 54, 'Darth': 31, 'Luke': 15})\n"
     ]
    }
   ],
   "source": [
    "# Solution 18: \n",
    "import collections \n",
    "import os\n",
    "\n",
    "f = open(r'nameslist.txt')\n",
    "num =f.read().split()\n",
    "print(collections.Counter(num))\n"
   ]
  },
  {
   "cell_type": "markdown",
   "metadata": {},
   "source": [
    "### Question 19: \n",
    "\n",
    "Write a python program where two .txt files are given that have lists of numbers in them, find the numbers that are overlapping. One '**[primenumbers1_1000.txt](https://github.com/milaan9/92_Python_Assignments/blob/main/primenumbers1_1000.txt)**' file has a list of all prime numbers under 1000, and the other '**[happynumbers1_1000.txt](https://github.com/milaan9/92_Python_Assignments/blob/main/happynumbers1_1000.txt)**' file has a list of **[happy numbers](https://en.wikipedia.org/wiki/Happy_number)** up to 1000.\n",
    "\n",
    "Expected Output:\n",
    "```\n",
    "The list of overlapping numbers:\n",
    " [7, 13, 19, 23, 31, 79, 97, 103, 109, 139, 167, 193, 239, 263, 293, 313, 331, 367, 379, 383, 397, 409, 487, 563, 617, 653, 673, 683, 709, 739, 761, 863, 881, 907, 937]\n",
    "```\n",
    "\n",
    "For extra point:\n",
    "1. Generate solution with functions using list comprehensions"
   ]
  },
  {
   "cell_type": "code",
   "execution_count": 8,
   "metadata": {},
   "outputs": [
    {
     "name": "stdout",
     "output_type": "stream",
     "text": [
      "['7', '13', '19', '23', '31', '79', '97', '103', '109', '139', '167', '193', '239', '263', '293', '313', '331', '367', '379', '383', '397', '487', '563', '617', '653', '673', '683', '709', '739', '761', '881', '907', '937']\n"
     ]
    }
   ],
   "source": [
    "# Solution 19: \n",
    "f1=open('happynumbers1_1000.txt','r')\n",
    "list1=[]\n",
    "for num in f1.readlines():\n",
    "    list1.append(num.replace(\"\\n\",\"\"))\n",
    "f1.close()\n",
    "\n",
    "f2=open('primenumbers1_1000.txt','r')\n",
    "list2=[]\n",
    "for num in f2.readlines():\n",
    "    list2.append(num.replace(\"\\n\",\"\"))\n",
    "f2.close()\n",
    "\n",
    "x=[]\n",
    "for i in list1:\n",
    "    if i in list2: x.append(i)\n",
    "print(x)\n"
   ]
  },
  {
   "cell_type": "markdown",
   "metadata": {},
   "source": [
    "### Question 20: \n",
    "\n",
    "Create a function that takes a string as an argument and returns the Morse code equivalent.\n",
    "\n",
    "Expected Output:\n",
    "```\n",
    "encode_morse(\"HELP ME !\") ➞ \".... . .-.. .--.   -- .   -.-.--\"\n",
    "```\n",
    "\n",
    "This dictionary can be used for coding:\n",
    "```\n",
    "char_to_dots = {\n",
    "    'A': '.-',   'B': '-...', 'C': '-.-.', 'D': '-..',  'E': '.',    'F': '..-.',\n",
    "    'G': '--.',  'H': '....', 'I': '..',   'J': '.---', 'K': '-.-',  'L': '.-..',\n",
    "    'M': '--',   'N': '-.',   'O': '---',  'P': '.--.', 'Q': '--.-', 'R': '.-.',\n",
    "    'S': '...',  'T': '-',    'U': '..-',  'V': '...-', 'W': '.--',  'X': '-..-',\n",
    "    'Y': '-.--', 'Z': '--..',  \n",
    "        \n",
    "    '0': '-----', '1': '.----', '2': '..---', '3': '...--', '4': '....-', \n",
    "    '5': '.....', '6': '-....', '7': '--...', '8': '---..', '9': '----.',\n",
    "        \n",
    "    ' ': ' ',      '&': '.-...',  \"'\": '.----.', '@': '.--.-.', ')': '-.--.-', \n",
    "    '(': '-.--.',  ':': '---...', ',': '--..--', '=': '-...-',  '!': '-.-.--', \n",
    "    '.': '.-.-.-', '-': '-....-', '+': '.-.-.', '\"': '.-..-.',  '?': '..--..', \n",
    "    '/': '-..-.'\n",
    "}\n",
    "```"
   ]
  },
  {
   "cell_type": "code",
   "execution_count": 5,
   "metadata": {},
   "outputs": [
    {
     "name": "stdout",
     "output_type": "stream",
     "text": [
      "Enter your word:HELP ME !\n",
      "encode_morse: HELP ME ! ➞   .... . .-.. .--.   -- .   -.-.-- \n"
     ]
    }
   ],
   "source": [
    "# Solution 20: \n",
    "char_to_dots = {\n",
    "    'A': '.-',   'B': '-...', 'C': '-.-.', 'D': '-..',  'E': '.',    'F': '..-.',\n",
    "    'G': '--.',  'H': '....', 'I': '..',   'J': '.---', 'K': '-.-',  'L': '.-..',\n",
    "    'M': '--',   'N': '-.',   'O': '---',  'P': '.--.', 'Q': '--.-', 'R': '.-.',\n",
    "    'S': '...',  'T': '-',    'U': '..-',  'V': '...-', 'W': '.--',  'X': '-..-',\n",
    "    'Y': '-.--', 'Z': '--..',  \n",
    "\n",
    "    '0': '-----', '1': '.----', '2': '..---', '3': '...--', '4': '....-', \n",
    "    '5': '.....', '6': '-....', '7': '--...', '8': '---..', '9': '----.',\n",
    "\n",
    "    ' ': ' ',      '&': '.-...',  \"'\": '.----.', '@': '.--.-.', ')': '-.--.-', \n",
    "    '(': '-.--.',  ':': '---...', ',': '--..--', '=': '-...-',  '!': '-.-.--', \n",
    "    '.': '.-.-.-', '-': '-....-', '+': '.-.-.', '\"': '.-..-.',  '?': '..--..', \n",
    "    '/': '-..-.'\n",
    "}\n",
    "def ms(n):\n",
    "    x = \"\"\n",
    "    word = n.upper()\n",
    "    for i in word:\n",
    "        x += char_to_dots[i] + \" \"\n",
    "    return x \n",
    "word = input(\"Enter your word:\")\n",
    "print(\"encode_morse:\",word,\"➞  \",ms(word))"
   ]
  },
  {
   "cell_type": "code",
   "execution_count": null,
   "metadata": {},
   "outputs": [],
   "source": []
  }
 ],
 "metadata": {
  "hide_input": false,
  "kernelspec": {
   "display_name": "Python 3",
   "language": "python",
   "name": "python3"
  },
  "language_info": {
   "codemirror_mode": {
    "name": "ipython",
    "version": 3
   },
   "file_extension": ".py",
   "mimetype": "text/x-python",
   "name": "python",
   "nbconvert_exporter": "python",
   "pygments_lexer": "ipython3",
   "version": "3.7.0"
  },
  "toc": {
   "base_numbering": 1,
   "nav_menu": {},
   "number_sections": true,
   "sideBar": true,
   "skip_h1_title": false,
   "title_cell": "Table of Contents",
   "title_sidebar": "Contents",
   "toc_cell": false,
   "toc_position": {},
   "toc_section_display": true,
   "toc_window_display": false
  },
  "varInspector": {
   "cols": {
    "lenName": 16,
    "lenType": 16,
    "lenVar": 40
   },
   "kernels_config": {
    "python": {
     "delete_cmd_postfix": "",
     "delete_cmd_prefix": "del ",
     "library": "var_list.py",
     "varRefreshCmd": "print(var_dic_list())"
    },
    "r": {
     "delete_cmd_postfix": ") ",
     "delete_cmd_prefix": "rm(",
     "library": "var_list.r",
     "varRefreshCmd": "cat(var_dic_list()) "
    }
   },
   "types_to_exclude": [
    "module",
    "function",
    "builtin_function_or_method",
    "instance",
    "_Feature"
   ],
   "window_display": false
  }
 },
 "nbformat": 4,
 "nbformat_minor": 2
}
